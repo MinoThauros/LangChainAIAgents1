{
 "cells": [
  {
   "cell_type": "code",
   "execution_count": 28,
   "metadata": {},
   "outputs": [],
   "source": [
    "%%capture --no-stderr\n",
    "%pip install -U langgraph langsmith langchain-openai\n"
   ]
  },
  {
   "cell_type": "code",
   "execution_count": 29,
   "metadata": {},
   "outputs": [],
   "source": [
    "from langgraph.checkpoint.memory import MemorySaver\n",
    "\n",
    "memory = MemorySaver() #not fit for prod"
   ]
  },
  {
   "cell_type": "code",
   "execution_count": 30,
   "metadata": {},
   "outputs": [],
   "source": [
    "import getpass\n",
    "import os\n",
    "\n",
    "\n",
    "def _set_env(var: str):\n",
    "    if not os.environ.get(var):\n",
    "        os.environ[var] = getpass.getpass(f\"{var}: \")\n",
    "\n",
    "\n",
    "_set_env(\"OPENAI_API_KEY\")   \n"
   ]
  },
  {
   "cell_type": "markdown",
   "metadata": {},
   "source": [
    "1) Just like before, define the graph state and how new messages are added to state (getter/setter)"
   ]
  },
  {
   "cell_type": "code",
   "execution_count": 31,
   "metadata": {},
   "outputs": [],
   "source": [
    "from typing import Annotated\n",
    "\n",
    "from typing_extensions import TypedDict\n",
    "\n",
    "from langgraph.graph import StateGraph, START, END\n",
    "from langgraph.graph.message import add_messages\n",
    "\n",
    "\n",
    "class State(TypedDict): #creating state as an extension of dict\n",
    "    # Messages have the type \"list\". The `add_messages` function\n",
    "    # in the annotation defines how this state key should be updated\n",
    "    # (in this case, it appends messages to the list, rather than overwriting them)\n",
    "    messages: Annotated[list, add_messages]\n",
    "\n",
    "    #defines state accorss one single graph invocation\n",
    "\n",
    "graph_builder = StateGraph(State)"
   ]
  },
  {
   "cell_type": "code",
   "execution_count": 32,
   "metadata": {},
   "outputs": [],
   "source": [
    "from langchain_openai import ChatOpenAI\n",
    "\n",
    "llm = ChatOpenAI(\n",
    "    model='gpt-4o-2024-08-06',\n",
    "    temperature=0,\n",
    "    max_tokens=None,\n",
    "    timeout=None,\n",
    "    max_retries=2,\n",
    "    # api_key=\"...\",  # if you prefer to pass api key in directly instaed of using env vars\n",
    "    # base_url=\"...\",\n",
    "    # organization=\"...\",\n",
    "    # other params...\n",
    ")\n",
    "\n"
   ]
  },
  {
   "cell_type": "markdown",
   "metadata": {},
   "source": [
    "2. Now, let's configure Tavily as a **tool by adding it to the tools array**; we also have a test invocation on tavily. We will also bind the toolkit to the LLM agent directly"
   ]
  },
  {
   "cell_type": "code",
   "execution_count": 33,
   "metadata": {},
   "outputs": [],
   "source": [
    "%%capture --no-stderr\n",
    "%pip install -U tavily-python langchain_community"
   ]
  },
  {
   "cell_type": "code",
   "execution_count": 34,
   "metadata": {},
   "outputs": [],
   "source": [
    "_set_env(\"TAVILY_API_KEY\")"
   ]
  },
  {
   "cell_type": "markdown",
   "metadata": {},
   "source": [
    "Now, let's configure Tavily and bind it to the LLM as a tool"
   ]
  },
  {
   "cell_type": "code",
   "execution_count": 35,
   "metadata": {},
   "outputs": [
    {
     "data": {
      "text/plain": [
       "[{'url': 'https://www.indeed.com/cmp/Morgan-Stanley/about',\n",
       "  'content': 'Since our founding in 1935, underpinning our history and legacy are five core values. By putting clients first, leading with exceptional ideas, doing the right thing, committing to diversity and inclusion, and giving back, Morgan Stanley aims to deliver tangible results for today with visionary thinking for the future.'},\n",
       " {'url': 'https://www.morganstanley.com/about-us/morgan-stanley-core-values',\n",
       "  'content': \"Do the Right Thing\\nAct with integrity\\nThink like an owner to create long-term shareholder value\\nValue and reward honesty and character\\nPut Clients First\\nKeep the client's interests first\\nWork with colleagues to deliver the best of the Firm to every client\\nListen to what the client is saying and needs\\nLead with Exceptional Ideas\\nWin by breaking new ground\\nLeverage different perspectives to gain new insight\\nDrive innovation\\nBe vigilant about what we can do better\\nCommit to Diversity & Inclusion\\nValue individual and cultural differences as a defining strength\\nChampion an environment where all employees feel a sense of belonging—are heard, seen and respected\\nExpect everyone to challenge behavior counter to our culture of inclusion\\nAttract, develop and retain talent reflecting the full diversity of society\\nGive Back\\nServe our communities generously with our expertise, time and money\\nBuild a better firm for the future by contributing to our culture\\nDevelop our talent through mentoring and sponsorship\\n© 2024\\xa0Morgan Stanley. Why Morgan Stanley\\nAt Morgan Stanley, we focus the expertise of the entire firm—our advice, data, strategies and insights—on creating solutions for our clients, large and small.\\n Experienced Financial Advisors\\nAt Morgan Stanley, our premier brand, robust resources and market leadership can offer you a new opportunity to grow your practice and continue to fulfill on your commitment to deliver tailored wealth management advice that helps your clients reach their financial goals.\\n Core Values\\nEverything we do at Morgan Stanley is guided by our five core values: Do the right thing, put clients first, lead with exceptional ideas, commit to diversity and inclusion, and give back.\\n Locations\\nThe global presence that Morgan Stanley maintains is key to our clients' success, giving us keen insight across regions and markets, and allowing us to make a difference around the world.\\n\"}]"
      ]
     },
     "execution_count": 35,
     "metadata": {},
     "output_type": "execute_result"
    }
   ],
   "source": [
    "from langchain_community.tools.tavily_search import TavilySearchResults\n",
    "\n",
    "tool = TavilySearchResults(max_results=2) #adding all the metadata here to make it easy to call the tool by its name\n",
    "tools = [tool]\n",
    "tool.invoke(\"hiring values morgan stanley\") #could use to search company names and classify them"
   ]
  },
  {
   "cell_type": "code",
   "execution_count": 36,
   "metadata": {},
   "outputs": [
    {
     "data": {
      "text/plain": [
       "<langgraph.graph.state.StateGraph at 0x11b537e80>"
      ]
     },
     "execution_count": 36,
     "metadata": {},
     "output_type": "execute_result"
    }
   ],
   "source": [
    "llm_with_tools = llm.bind_tools(tools)#bind toolkit to node\n",
    "\n",
    "def chatbot(state: State):\n",
    "    return {\"messages\": [llm_with_tools.invoke(state[\"messages\"])]}\n",
    "\n",
    "\n",
    "graph_builder.add_node(\"chatbot\", chatbot)"
   ]
  },
  {
   "cell_type": "markdown",
   "metadata": {},
   "source": [
    "Next, let's define an `interface` to communnicate with the tools and to define them as a node.\n",
    "\n",
    "This class has one single method which is __call__ which simply:\n",
    "- maps the array of tool calls to the available tools and passes to the tools the adequate `args`\n",
    "- appends the tool calls answers to the `state`\n",
    "\n",
    "The tool node is then added to the graph as any node"
   ]
  },
  {
   "cell_type": "code",
   "execution_count": 37,
   "metadata": {},
   "outputs": [
    {
     "data": {
      "text/plain": [
       "<langgraph.graph.state.StateGraph at 0x11b537e80>"
      ]
     },
     "execution_count": 37,
     "metadata": {},
     "output_type": "execute_result"
    }
   ],
   "source": [
    "import json\n",
    "\n",
    "from langchain_core.messages import ToolMessage\n",
    "\n",
    "\n",
    "class BasicToolNode:\n",
    "    \"\"\"A node that runs the tools requested in the last AIMessage.\n",
    "    \n",
    "    interface ToolCall {\n",
    "        name: string;\n",
    "        args: Record<string, unknown>;\n",
    "        id: string;\n",
    "    }\n",
    "    \n",
    "    interface Message {\n",
    "        message:str[]\n",
    "        tool_calls: ToolCall[];\n",
    "    }\n",
    "\n",
    "    interface Inputs {\n",
    "        messages: Message[];\n",
    "    }\n",
    "    \n",
    "    \"\"\"\n",
    "\n",
    "    def __init__(self, tools: list) -> None:\n",
    "        self.tools_by_name = {tool.name: tool for tool in tools}#key:value pairs\n",
    "\n",
    "    def __call__(self, inputs: dict):\n",
    "        if messages := inputs.get(\"messages\", []): #retrieving the message prop in the key-value pair; if key doesn't exist, return an empty list\n",
    "            message = messages[-1] #fetch latest message as message\n",
    "        else:\n",
    "            raise ValueError(\"No message found in input\")\n",
    "        outputs = []\n",
    "        for tool_call in message.tool_calls: #message is expected to contain a prop called tool call\n",
    "            tool_result = self.tools_by_name[tool_call[\"name\"]].invoke(\n",
    "                tool_call[\"args\"]\n",
    "            ) #pass tool invocation arguments to specific tool\n",
    "            outputs.append(\n",
    "                ToolMessage(\n",
    "                    content=json.dumps(tool_result),\n",
    "                    name=tool_call[\"name\"],\n",
    "                    tool_call_id=tool_call[\"id\"],\n",
    "                )\n",
    "            )\n",
    "        return {\"messages\": outputs}\n",
    "    \n",
    "\n",
    "\n",
    "tool_node = BasicToolNode(tools=[tool]) #build tools node\n",
    "graph_builder.add_node(\"tools\", tool_node)"
   ]
  },
  {
   "cell_type": "markdown",
   "metadata": {},
   "source": [
    "Now, we construct a router to either have a tool call or to end the node"
   ]
  },
  {
   "cell_type": "code",
   "execution_count": 38,
   "metadata": {},
   "outputs": [
    {
     "data": {
      "text/plain": [
       "<langgraph.graph.state.StateGraph at 0x11b537e80>"
      ]
     },
     "execution_count": 38,
     "metadata": {},
     "output_type": "execute_result"
    }
   ],
   "source": [
    "from typing import Literal\n",
    "\n",
    "\n",
    "def route_tools( #returns END or tools depending on current state (last message in stack)\n",
    "    state: State,\n",
    "):\n",
    "    \"\"\"\n",
    "    Router;\n",
    "    Use in the conditional_edge to route to the ToolNode if the last message\n",
    "    has tool calls. Otherwise, route to the end.\n",
    "    \"\"\"\n",
    "    if isinstance(state, list): #if list, get the last message\n",
    "        ai_message = state[-1]\n",
    "    elif messages := state.get(\"messages\", []): #if dict; get the last message (as sometimes state include a tool call)\n",
    "        ai_message = messages[-1]\n",
    "    else:\n",
    "        raise ValueError(f\"No messages found in input state to tool_edge: {state}\")\n",
    "    if hasattr(ai_message, \"tool_calls\") and len(ai_message.tool_calls) > 0:\n",
    "        return \"tools\"\n",
    "    return END\n",
    "\n",
    "\n",
    "# The `tools_condition` function returns \"tools\" if the chatbot asks to use a tool, and \"END\" if\n",
    "# it is fine directly responding. This conditional routing defines the main agent loop.\n",
    "graph_builder.add_conditional_edges(\n",
    "    \"chatbot\", #source\n",
    "    route_tools, #The callable that determines the next node or nodes\n",
    "    # The following dictionary lets you tell the graph to interpret the condition's outputs as a specific node\n",
    "    # It defaults to the identity function, but if you\n",
    "    # want to use a node named something else apart from \"tools\",\n",
    "    # You can update the value of the dictionary to something else\n",
    "    # e.g., \"tools\": \"my_tools\"\n",
    "    {\"tools\": \"tools\", END: END}, #mapping of paths to node based on the ouput of the router\n",
    ")"
   ]
  },
  {
   "cell_type": "markdown",
   "metadata": {},
   "source": [
    "Now, let's define **`unconditional`** edges;\n",
    "\n",
    "We'll also define a `checkpointer` to extend session behind a single interaction"
   ]
  },
  {
   "cell_type": "code",
   "execution_count": 39,
   "metadata": {},
   "outputs": [],
   "source": [
    "from langgraph.checkpoint.memory import MemorySaver\n",
    "\n",
    "memory = MemorySaver()\n",
    "\n",
    "# Any time a tool is called, we return to the chatbot to decide the next step\n",
    "graph_builder.add_edge(\"tools\", \"chatbot\") #to loop back tool invocation to chatbot\n",
    "graph_builder.add_edge(START, \"chatbot\") #node has a start and a finish arg; start -> chatbot\n",
    "graph = graph_builder.compile(checkpointer=memory,interrupt_before=[\"tools\"])"
   ]
  },
  {
   "cell_type": "code",
   "execution_count": 40,
   "metadata": {},
   "outputs": [
    {
     "data": {
      "image/png": "[encoded data removed]",
      "text/plain": [
       "<IPython.core.display.Image object>"
      ]
     },
     "metadata": {},
     "output_type": "display_data"
    }
   ],
   "source": [
    "from IPython.display import Image, display\n",
    "\n",
    "try:\n",
    "    display(Image(graph.get_graph().draw_mermaid_png()))\n",
    "except Exception:\n",
    "    # This requires some extra dependencies and is optional\n",
    "    pass"
   ]
  },
  {
   "cell_type": "markdown",
   "metadata": {},
   "source": [
    "Now, let's invoke all calls with memory by defining a `config` and its `thread id`"
   ]
  },
  {
   "cell_type": "code",
   "execution_count": 41,
   "metadata": {},
   "outputs": [
    {
     "name": "stdout",
     "output_type": "stream",
     "text": [
      "================================\u001b[1m Human Message \u001b[0m=================================\n",
      "\n",
      "I'm learning LangGraph. Could you do some research on it for me?\n",
      "==================================\u001b[1m Ai Message \u001b[0m==================================\n",
      "Tool Calls:\n",
      "  tavily_search_results_json (call_MvEpwka5JujmBH7F2fz4eVrp)\n",
      " Call ID: call_MvEpwka5JujmBH7F2fz4eVrp\n",
      "  Args:\n",
      "    query: LangGraph programming language\n"
     ]
    }
   ],
   "source": [
    "user_input = \"I'm learning LangGraph. Could you do some research on it for me?\"\n",
    "config = {\"configurable\": {\"thread_id\": \"1\"}}\n",
    "# The config is the **second positional argument** to stream() or invoke()!\n",
    "events = graph.stream(\n",
    "    {\"messages\": [(\"user\", user_input)]}, config, stream_mode=\"values\"\n",
    ")\n",
    "for event in events:\n",
    "    if \"messages\" in event:\n",
    "        event[\"messages\"][-1].pretty_print()"
   ]
  },
  {
   "cell_type": "code",
   "execution_count": 57,
   "metadata": {},
   "outputs": [
    {
     "name": "stdout",
     "output_type": "stream",
     "text": [
      "StateSnapshot(values={'messages': [HumanMessage(content=\"I'm learning LangGraph. Could you do some research on it for me?\", additional_kwargs={}, response_metadata={}, id='3a714374-1a47-4676-9287-f80093f24283'), AIMessage(content='', additional_kwargs={'tool_calls': [{'id': 'call_MvEpwka5JujmBH7F2fz4eVrp', 'function': {'arguments': '{\"query\":\"LangGraph programming language\"}', 'name': 'tavily_search_results_json'}, 'type': 'function'}], 'refusal': None}, response_metadata={'token_usage': {'completion_tokens': 22, 'prompt_tokens': 94, 'total_tokens': 116, 'completion_tokens_details': {'accepted_prediction_tokens': 0, 'audio_tokens': 0, 'reasoning_tokens': 0, 'rejected_prediction_tokens': 0}, 'prompt_tokens_details': {'audio_tokens': 0, 'cached_tokens': 0}}, 'model_name': 'gpt-4o-2024-08-06', 'system_fingerprint': 'fp_5f20662549', 'finish_reason': 'tool_calls', 'logprobs': None}, id='run-bc6ad02c-773b-4afe-8f1a-0663fedf748d-0', tool_calls=[{'name': 'tavily_search_results_json', 'args': {'query': 'LangGraph programming language'}, 'id': 'call_MvEpwka5JujmBH7F2fz4eVrp', 'type': 'tool_call'}], usage_metadata={'input_tokens': 94, 'output_tokens': 22, 'total_tokens': 116, 'input_token_details': {'audio': 0, 'cache_read': 0}, 'output_token_details': {'audio': 0, 'reasoning': 0}}), ToolMessage(content='[{\"url\": \"https://analyticsindiamag.com/ai-features/top-7-simple-courses-to-build-ai-agents-using-langgraph/\", \"content\": \"Andrew Ng, the founder of DeepLearning.AI, recently launched a new course on building single and multi-agent LLM applications using LangGraph.. LangGraph is a framework within the LangChain ecosystem designed explicitly to build AI agents using a graph-based approach. It allows developers to structure complex interactions and workflows visually, making them easier to manage and understand.\"}, {\"url\": \"https://blog.futuresmart.ai/langgraph-tutorial-for-beginners\", \"content\": \"By representing workflows as cyclical graphs, LangGraph allows developers to orchestrate the interactions of multiple LLM agents, ensuring smooth communication and efficient execution of complex tasks. from langgraph.graph.message import add_messages You can expand upon this by incorporating more sophisticated state management and different LLM models or by connecting to external tools and APIs. The key is to define clear nodes for different tasks and use edges to establish the desired flow of information and control within the chatbot. from langgraph.graph.message import add_messages graph_builder.add_edge(\\\\\"tools\\\\\", \\\\\"chatbot\\\\\") Loop Back: After executing the tool, use graph_builder.add_edge() to direct the flow back to the chatbot node, allowing the conversation to continue. from langgraph.graph.message import add_messages graph_builder.add_edge(\\\\\"tools\\\\\", \\\\\"chatbot\\\\\")\"}]', name='tavily_search_results_json', id='edf32360-d589-400e-a2da-eb2f3ceb6fd4', tool_call_id='call_MvEpwka5JujmBH7F2fz4eVrp'), AIMessage(content='LangGraph is a framework within the LangChain ecosystem designed to build AI agents using a graph-based approach. It allows developers to structure complex interactions and workflows visually, making them easier to manage and understand. This framework is particularly useful for orchestrating the interactions of multiple large language model (LLM) agents, ensuring smooth communication and efficient execution of complex tasks.\\n\\nKey features of LangGraph include:\\n\\n1. **Graph-Based Approach**: LangGraph represents workflows as cyclical graphs, which helps in managing the flow of information and control within AI applications.\\n\\n2. **Integration with LLMs**: It allows for the incorporation of various LLM models and can connect to external tools and APIs, enhancing the capabilities of AI agents.\\n\\n3. **Visual Workflow Management**: By defining clear nodes for different tasks and using edges to establish the desired flow, developers can create sophisticated state management systems.\\n\\n4. **Educational Resources**: Andrew Ng, the founder of DeepLearning.AI, has launched a course on building single and multi-agent LLM applications using LangGraph, which can be a valuable resource for learning how to use this framework effectively.\\n\\nFor more detailed tutorials and examples, you might want to explore resources like [this tutorial for beginners](https://blog.futuresmart.ai/langgraph-tutorial-for-beginners).', additional_kwargs={'refusal': None}, response_metadata={'token_usage': {'completion_tokens': 265, 'prompt_tokens': 420, 'total_tokens': 685, 'completion_tokens_details': {'accepted_prediction_tokens': 0, 'audio_tokens': 0, 'reasoning_tokens': 0, 'rejected_prediction_tokens': 0}, 'prompt_tokens_details': {'audio_tokens': 0, 'cached_tokens': 0}}, 'model_name': 'gpt-4o-2024-08-06', 'system_fingerprint': 'fp_5f20662549', 'finish_reason': 'stop', 'logprobs': None}, id='run-c6b72efb-996f-4a72-a6b5-224a7dc85b11-0', usage_metadata={'input_tokens': 420, 'output_tokens': 265, 'total_tokens': 685, 'input_token_details': {'audio': 0, 'cache_read': 0}, 'output_token_details': {'audio': 0, 'reasoning': 0}})]}, next=(), config={'configurable': {'thread_id': '1', 'checkpoint_ns': '', 'checkpoint_id': '1efc219f-6acd-6c44-8003-764008ca1514'}}, metadata={'source': 'loop', 'writes': {'chatbot': {'messages': [AIMessage(content='LangGraph is a framework within the LangChain ecosystem designed to build AI agents using a graph-based approach. It allows developers to structure complex interactions and workflows visually, making them easier to manage and understand. This framework is particularly useful for orchestrating the interactions of multiple large language model (LLM) agents, ensuring smooth communication and efficient execution of complex tasks.\\n\\nKey features of LangGraph include:\\n\\n1. **Graph-Based Approach**: LangGraph represents workflows as cyclical graphs, which helps in managing the flow of information and control within AI applications.\\n\\n2. **Integration with LLMs**: It allows for the incorporation of various LLM models and can connect to external tools and APIs, enhancing the capabilities of AI agents.\\n\\n3. **Visual Workflow Management**: By defining clear nodes for different tasks and using edges to establish the desired flow, developers can create sophisticated state management systems.\\n\\n4. **Educational Resources**: Andrew Ng, the founder of DeepLearning.AI, has launched a course on building single and multi-agent LLM applications using LangGraph, which can be a valuable resource for learning how to use this framework effectively.\\n\\nFor more detailed tutorials and examples, you might want to explore resources like [this tutorial for beginners](https://blog.futuresmart.ai/langgraph-tutorial-for-beginners).', additional_kwargs={'refusal': None}, response_metadata={'token_usage': {'completion_tokens': 265, 'prompt_tokens': 420, 'total_tokens': 685, 'completion_tokens_details': {'accepted_prediction_tokens': 0, 'audio_tokens': 0, 'reasoning_tokens': 0, 'rejected_prediction_tokens': 0}, 'prompt_tokens_details': {'audio_tokens': 0, 'cached_tokens': 0}}, 'model_name': 'gpt-4o-2024-08-06', 'system_fingerprint': 'fp_5f20662549', 'finish_reason': 'stop', 'logprobs': None}, id='run-c6b72efb-996f-4a72-a6b5-224a7dc85b11-0', usage_metadata={'input_tokens': 420, 'output_tokens': 265, 'total_tokens': 685, 'input_token_details': {'audio': 0, 'cache_read': 0}, 'output_token_details': {'audio': 0, 'reasoning': 0}})]}}, 'thread_id': '1', 'step': 3, 'parents': {}}, created_at='2024-12-24T17:10:24.026885+00:00', parent_config={'configurable': {'thread_id': '1', 'checkpoint_ns': '', 'checkpoint_id': '1efc219f-426e-6352-8002-6321b7019be2'}}, tasks=())\n"
     ]
    }
   ],
   "source": [
    "from pprint import pprint\n",
    "snapshot = graph.get_state(config)\n",
    "snapshot.next\n",
    "pprint(snapshot, indent=4)"
   ]
  },
  {
   "cell_type": "code",
   "execution_count": 44,
   "metadata": {},
   "outputs": [
    {
     "data": {
      "text/plain": [
       "[{'name': 'tavily_search_results_json',\n",
       "  'args': {'query': 'LangGraph programming language'},\n",
       "  'id': 'call_MvEpwka5JujmBH7F2fz4eVrp',\n",
       "  'type': 'tool_call'}]"
      ]
     },
     "execution_count": 44,
     "metadata": {},
     "output_type": "execute_result"
    }
   ],
   "source": [
    "existing_message = snapshot.values[\"messages\"][-1]\n",
    "existing_message.tool_calls \n",
    "#fetch last message to see state"
   ]
  },
  {
   "cell_type": "code",
   "execution_count": 45,
   "metadata": {},
   "outputs": [
    {
     "name": "stdout",
     "output_type": "stream",
     "text": [
      "==================================\u001b[1m Ai Message \u001b[0m==================================\n",
      "Tool Calls:\n",
      "  tavily_search_results_json (call_MvEpwka5JujmBH7F2fz4eVrp)\n",
      " Call ID: call_MvEpwka5JujmBH7F2fz4eVrp\n",
      "  Args:\n",
      "    query: LangGraph programming language\n",
      "=================================\u001b[1m Tool Message \u001b[0m=================================\n",
      "Name: tavily_search_results_json\n",
      "\n",
      "[{\"url\": \"https://analyticsindiamag.com/ai-features/top-7-simple-courses-to-build-ai-agents-using-langgraph/\", \"content\": \"Andrew Ng, the founder of DeepLearning.AI, recently launched a new course on building single and multi-agent LLM applications using LangGraph.. LangGraph is a framework within the LangChain ecosystem designed explicitly to build AI agents using a graph-based approach. It allows developers to structure complex interactions and workflows visually, making them easier to manage and understand.\"}, {\"url\": \"https://blog.futuresmart.ai/langgraph-tutorial-for-beginners\", \"content\": \"By representing workflows as cyclical graphs, LangGraph allows developers to orchestrate the interactions of multiple LLM agents, ensuring smooth communication and efficient execution of complex tasks. from langgraph.graph.message import add_messages You can expand upon this by incorporating more sophisticated state management and different LLM models or by connecting to external tools and APIs. The key is to define clear nodes for different tasks and use edges to establish the desired flow of information and control within the chatbot. from langgraph.graph.message import add_messages graph_builder.add_edge(\\\"tools\\\", \\\"chatbot\\\") Loop Back: After executing the tool, use graph_builder.add_edge() to direct the flow back to the chatbot node, allowing the conversation to continue. from langgraph.graph.message import add_messages graph_builder.add_edge(\\\"tools\\\", \\\"chatbot\\\")\"}]\n",
      "==================================\u001b[1m Ai Message \u001b[0m==================================\n",
      "\n",
      "LangGraph is a framework within the LangChain ecosystem designed to build AI agents using a graph-based approach. It allows developers to structure complex interactions and workflows visually, making them easier to manage and understand. This framework is particularly useful for orchestrating the interactions of multiple large language model (LLM) agents, ensuring smooth communication and efficient execution of complex tasks.\n",
      "\n",
      "Key features of LangGraph include:\n",
      "\n",
      "1. **Graph-Based Approach**: LangGraph represents workflows as cyclical graphs, which helps in managing the flow of information and control within AI applications.\n",
      "\n",
      "2. **Integration with LLMs**: It allows for the incorporation of various LLM models and can connect to external tools and APIs, enhancing the capabilities of AI agents.\n",
      "\n",
      "3. **Visual Workflow Management**: By defining clear nodes for different tasks and using edges to establish the desired flow, developers can create sophisticated state management systems.\n",
      "\n",
      "4. **Educational Resources**: Andrew Ng, the founder of DeepLearning.AI, has launched a course on building single and multi-agent LLM applications using LangGraph, which can be a valuable resource for learning how to use this framework effectively.\n",
      "\n",
      "For more detailed tutorials and examples, you might want to explore resources like [this tutorial for beginners](https://blog.futuresmart.ai/langgraph-tutorial-for-beginners).\n"
     ]
    }
   ],
   "source": [
    "# `None` will append nothing new to the current state, letting it resume as if it had never been interrupted\n",
    "events = graph.stream(None, config, stream_mode=\"values\")\n",
    "for event in events:\n",
    "    if \"messages\" in event:\n",
    "        event[\"messages\"][-1].pretty_print()"
   ]
  },
  {
   "cell_type": "markdown",
   "metadata": {},
   "source": [
    "Here we notice a couple of things:\n",
    "- Interrupts are part of state, so with the right thread_Id we can hang the graph state indefinitely\n",
    "- Threat_id can be case_id for graph states"
   ]
  }
 ],
 "metadata": {
  "kernelspec": {
   "display_name": "Python 3",
   "language": "python",
   "name": "python3"
  },
  "language_info": {
   "codemirror_mode": {
    "name": "ipython",
    "version": 3
   },
   "file_extension": ".py",
   "mimetype": "text/x-python",
   "name": "python",
   "nbconvert_exporter": "python",
   "pygments_lexer": "ipython3",
   "version": "3.10.0"
  }
 },
 "nbformat": 4,
 "nbformat_minor": 2
}
