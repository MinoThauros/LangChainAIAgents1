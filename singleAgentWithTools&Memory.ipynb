{
 "cells": [
  {
   "cell_type": "code",
   "execution_count": 31,
   "metadata": {},
   "outputs": [],
   "source": [
    "%%capture --no-stderr\n",
    "%pip install -U langgraph langsmith langchain-openai\n"
   ]
  },
  {
   "cell_type": "code",
   "execution_count": 32,
   "metadata": {},
   "outputs": [],
   "source": [
    "from langgraph.checkpoint.memory import MemorySaver\n",
    "\n",
    "memory = MemorySaver() #not fit for prod"
   ]
  },
  {
   "cell_type": "code",
   "execution_count": 33,
   "metadata": {},
   "outputs": [],
   "source": [
    "import getpass\n",
    "import os\n",
    "\n",
    "\n",
    "def _set_env(var: str):\n",
    "    if not os.environ.get(var):\n",
    "        os.environ[var] = getpass.getpass(f\"{var}: \")\n",
    "\n",
    "\n",
    "_set_env(\"OPENAI_API_KEY\")   \n"
   ]
  },
  {
   "cell_type": "markdown",
   "metadata": {},
   "source": [
    "1) Just like before, define the graph state and how new messages are added to state (getter/setter)"
   ]
  },
  {
   "cell_type": "code",
   "execution_count": 34,
   "metadata": {},
   "outputs": [],
   "source": [
    "from typing import Annotated\n",
    "\n",
    "from typing_extensions import TypedDict\n",
    "\n",
    "from langgraph.graph import StateGraph, START, END\n",
    "from langgraph.graph.message import add_messages\n",
    "\n",
    "\n",
    "class State(TypedDict): #creating state as an extension of dict\n",
    "    # Messages have the type \"list\". The `add_messages` function\n",
    "    # in the annotation defines how this state key should be updated\n",
    "    # (in this case, it appends messages to the list, rather than overwriting them)\n",
    "    messages: Annotated[list, add_messages]\n",
    "\n",
    "    #defines state accorss one single graph invocation\n",
    "\n",
    "graph_builder = StateGraph(State)"
   ]
  },
  {
   "cell_type": "code",
   "execution_count": 35,
   "metadata": {},
   "outputs": [],
   "source": [
    "from langchain_openai import ChatOpenAI\n",
    "\n",
    "llm = ChatOpenAI(\n",
    "    model='gpt-4o-2024-08-06',\n",
    "    temperature=0,\n",
    "    max_tokens=None,\n",
    "    timeout=None,\n",
    "    max_retries=2,\n",
    "    # api_key=\"...\",  # if you prefer to pass api key in directly instaed of using env vars\n",
    "    # base_url=\"...\",\n",
    "    # organization=\"...\",\n",
    "    # other params...\n",
    ")\n",
    "\n"
   ]
  },
  {
   "cell_type": "markdown",
   "metadata": {},
   "source": [
    "2. Now, let's configure Tavily as a **tool by adding it to the tools array**; we also have a test invocation on tavily. We will also bind the toolkit to the LLM agent directly"
   ]
  },
  {
   "cell_type": "code",
   "execution_count": 36,
   "metadata": {},
   "outputs": [],
   "source": [
    "%%capture --no-stderr\n",
    "%pip install -U tavily-python langchain_community"
   ]
  },
  {
   "cell_type": "code",
   "execution_count": 37,
   "metadata": {},
   "outputs": [],
   "source": [
    "_set_env(\"TAVILY_API_KEY\")"
   ]
  },
  {
   "cell_type": "markdown",
   "metadata": {},
   "source": [
    "Now, let's configure Tavily and bind it to the LLM as a tool"
   ]
  },
  {
   "cell_type": "code",
   "execution_count": 38,
   "metadata": {},
   "outputs": [
    {
     "data": {
      "text/plain": [
       "[{'url': 'https://www.indeed.com/cmp/Morgan-Stanley/about',\n",
       "  'content': 'Since our founding in 1935, underpinning our history and legacy are five core values. By putting clients first, leading with exceptional ideas, doing the right thing, committing to diversity and inclusion, and giving back, Morgan Stanley aims to deliver tangible results for today with visionary thinking for the future.'},\n",
       " {'url': 'https://www.morganstanley.com/about-us/morgan-stanley-core-values',\n",
       "  'content': \"Do the Right Thing\\nAct with integrity\\nThink like an owner to create long-term shareholder value\\nValue and reward honesty and character\\nPut Clients First\\nKeep the client's interests first\\nWork with colleagues to deliver the best of the Firm to every client\\nListen to what the client is saying and needs\\nLead with Exceptional Ideas\\nWin by breaking new ground\\nLeverage different perspectives to gain new insight\\nDrive innovation\\nBe vigilant about what we can do better\\nCommit to Diversity & Inclusion\\nValue individual and cultural differences as a defining strength\\nChampion an environment where all employees feel a sense of belonging—are heard, seen and respected\\nExpect everyone to challenge behavior counter to our culture of inclusion\\nAttract, develop and retain talent reflecting the full diversity of society\\nGive Back\\nServe our communities generously with our expertise, time and money\\nBuild a better firm for the future by contributing to our culture\\nDevelop our talent through mentoring and sponsorship\\n© 2024\\xa0Morgan Stanley. Why Morgan Stanley\\nAt Morgan Stanley, we focus the expertise of the entire firm—our advice, data, strategies and insights—on creating solutions for our clients, large and small.\\n Experienced Financial Advisors\\nAt Morgan Stanley, our premier brand, robust resources and market leadership can offer you a new opportunity to grow your practice and continue to fulfill on your commitment to deliver tailored wealth management advice that helps your clients reach their financial goals.\\n Core Values\\nEverything we do at Morgan Stanley is guided by our five core values: Do the right thing, put clients first, lead with exceptional ideas, commit to diversity and inclusion, and give back.\\n Locations\\nThe global presence that Morgan Stanley maintains is key to our clients' success, giving us keen insight across regions and markets, and allowing us to make a difference around the world.\\n\"}]"
      ]
     },
     "execution_count": 38,
     "metadata": {},
     "output_type": "execute_result"
    }
   ],
   "source": [
    "from langchain_community.tools.tavily_search import TavilySearchResults\n",
    "\n",
    "tool = TavilySearchResults(max_results=2) #adding all the metadata here to make it easy to call the tool by its name\n",
    "tools = [tool]\n",
    "tool.invoke(\"hiring values morgan stanley\") #could use to search company names and classify them"
   ]
  },
  {
   "cell_type": "code",
   "execution_count": 39,
   "metadata": {},
   "outputs": [
    {
     "data": {
      "text/plain": [
       "<langgraph.graph.state.StateGraph at 0x10cd640a0>"
      ]
     },
     "execution_count": 39,
     "metadata": {},
     "output_type": "execute_result"
    }
   ],
   "source": [
    "llm_with_tools = llm.bind_tools(tools)#bind toolkit to node\n",
    "\n",
    "def chatbot(state: State):\n",
    "    return {\"messages\": [llm_with_tools.invoke(state[\"messages\"])]}\n",
    "\n",
    "\n",
    "graph_builder.add_node(\"chatbot\", chatbot)"
   ]
  },
  {
   "cell_type": "markdown",
   "metadata": {},
   "source": [
    "Next, let's define an `interface` to communnicate with the tools and to define them as a node.\n",
    "\n",
    "This class has one single method which is __call__ which simply:\n",
    "- maps the array of tool calls to the available tools and passes to the tools the adequate `args`\n",
    "- appends the tool calls answers to the `state`\n",
    "\n",
    "The tool node is then added to the graph as any node"
   ]
  },
  {
   "cell_type": "code",
   "execution_count": 40,
   "metadata": {},
   "outputs": [
    {
     "data": {
      "text/plain": [
       "<langgraph.graph.state.StateGraph at 0x10cd640a0>"
      ]
     },
     "execution_count": 40,
     "metadata": {},
     "output_type": "execute_result"
    }
   ],
   "source": [
    "import json\n",
    "\n",
    "from langchain_core.messages import ToolMessage\n",
    "\n",
    "\n",
    "class BasicToolNode:\n",
    "    \"\"\"A node that runs the tools requested in the last AIMessage.\n",
    "    \n",
    "    interface ToolCall {\n",
    "        name: string;\n",
    "        args: Record<string, unknown>;\n",
    "        id: string;\n",
    "    }\n",
    "    \n",
    "    interface Message {\n",
    "        message:str[]\n",
    "        tool_calls: ToolCall[];\n",
    "    }\n",
    "\n",
    "    interface Inputs {\n",
    "        messages: Message[];\n",
    "    }\n",
    "    \n",
    "    \"\"\"\n",
    "\n",
    "    def __init__(self, tools: list) -> None:\n",
    "        self.tools_by_name = {tool.name: tool for tool in tools}#key:value pairs\n",
    "\n",
    "    def __call__(self, inputs: dict):\n",
    "        if messages := inputs.get(\"messages\", []): #retrieving the message prop in the key-value pair; if key doesn't exist, return an empty list\n",
    "            message = messages[-1] #fetch latest message as message\n",
    "        else:\n",
    "            raise ValueError(\"No message found in input\")\n",
    "        outputs = []\n",
    "        for tool_call in message.tool_calls: #message is expected to contain a prop called tool call\n",
    "            tool_result = self.tools_by_name[tool_call[\"name\"]].invoke(\n",
    "                tool_call[\"args\"]\n",
    "            ) #pass tool invocation arguments to specific tool\n",
    "            outputs.append(\n",
    "                ToolMessage(\n",
    "                    content=json.dumps(tool_result),\n",
    "                    name=tool_call[\"name\"],\n",
    "                    tool_call_id=tool_call[\"id\"],\n",
    "                )\n",
    "            )\n",
    "        return {\"messages\": outputs}\n",
    "    \n",
    "\n",
    "\n",
    "tool_node = BasicToolNode(tools=[tool]) #build tools node\n",
    "graph_builder.add_node(\"tools\", tool_node)"
   ]
  },
  {
   "cell_type": "markdown",
   "metadata": {},
   "source": [
    "Now, we construct a router to either have a tool call or to end the node"
   ]
  },
  {
   "cell_type": "code",
   "execution_count": 41,
   "metadata": {},
   "outputs": [
    {
     "data": {
      "text/plain": [
       "<langgraph.graph.state.StateGraph at 0x10cd640a0>"
      ]
     },
     "execution_count": 41,
     "metadata": {},
     "output_type": "execute_result"
    }
   ],
   "source": [
    "from typing import Literal\n",
    "\n",
    "\n",
    "def route_tools( #returns END or tools depending on current state (last message in stack)\n",
    "    state: State,\n",
    "):\n",
    "    \"\"\"\n",
    "    Router;\n",
    "    Use in the conditional_edge to route to the ToolNode if the last message\n",
    "    has tool calls. Otherwise, route to the end.\n",
    "    \"\"\"\n",
    "    if isinstance(state, list): #if list, get the last message\n",
    "        ai_message = state[-1]\n",
    "    elif messages := state.get(\"messages\", []): #if dict; get the last message (as sometimes state include a tool call)\n",
    "        ai_message = messages[-1]\n",
    "    else:\n",
    "        raise ValueError(f\"No messages found in input state to tool_edge: {state}\")\n",
    "    if hasattr(ai_message, \"tool_calls\") and len(ai_message.tool_calls) > 0:\n",
    "        return \"tools\"\n",
    "    return END\n",
    "\n",
    "\n",
    "# The `tools_condition` function returns \"tools\" if the chatbot asks to use a tool, and \"END\" if\n",
    "# it is fine directly responding. This conditional routing defines the main agent loop.\n",
    "graph_builder.add_conditional_edges(\n",
    "    \"chatbot\", #source\n",
    "    route_tools, #The callable that determines the next node or nodes\n",
    "    # The following dictionary lets you tell the graph to interpret the condition's outputs as a specific node\n",
    "    # It defaults to the identity function, but if you\n",
    "    # want to use a node named something else apart from \"tools\",\n",
    "    # You can update the value of the dictionary to something else\n",
    "    # e.g., \"tools\": \"my_tools\"\n",
    "    {\"tools\": \"tools\", END: END}, #mapping of paths to node based on the ouput of the router\n",
    ")"
   ]
  },
  {
   "cell_type": "markdown",
   "metadata": {},
   "source": [
    "Now, let's define **`unconditional`** edges;\n",
    "\n",
    "We'll also define a `checkpointer` to extend session behind a single interaction"
   ]
  },
  {
   "cell_type": "code",
   "execution_count": 42,
   "metadata": {},
   "outputs": [],
   "source": [
    "from langgraph.checkpoint.memory import MemorySaver\n",
    "\n",
    "memory = MemorySaver()\n",
    "\n",
    "# Any time a tool is called, we return to the chatbot to decide the next step\n",
    "graph_builder.add_edge(\"tools\", \"chatbot\") #to loop back tool invocation to chatbot\n",
    "graph_builder.add_edge(START, \"chatbot\") #node has a start and a finish arg; start -> chatbot\n",
    "graph = graph_builder.compile(checkpointer=memory) #compiling graph with memory"
   ]
  },
  {
   "cell_type": "code",
   "execution_count": 43,
   "metadata": {},
   "outputs": [
    {
     "data": {
      "image/png": "[encoded data removed]",
      "text/plain": [
       "<IPython.core.display.Image object>"
      ]
     },
     "metadata": {},
     "output_type": "display_data"
    }
   ],
   "source": [
    "from IPython.display import Image, display\n",
    "\n",
    "try:\n",
    "    display(Image(graph.get_graph().draw_mermaid_png()))\n",
    "except Exception:\n",
    "    # This requires some extra dependencies and is optional\n",
    "    pass"
   ]
  },
  {
   "cell_type": "markdown",
   "metadata": {},
   "source": [
    "Now, let's invoke all calls with memory by defining a `config` and its `thread id`"
   ]
  },
  {
   "cell_type": "code",
   "execution_count": 44,
   "metadata": {},
   "outputs": [
    {
     "name": "stdout",
     "output_type": "stream",
     "text": [
      "User: hey\n",
      "Assistant: Hello! How can I assist you today?\n",
      "User: I'm Minow\n",
      "Assistant: Hi Minow! How can I help you today?\n",
      "User: who is th richest person on arth\n",
      "Assistant: \n",
      "Assistant: [{\"url\": \"https://www.forbes.com.au/news/billionaires/richest-people-in-the-world/\", \"content\": \"Elon Musk tops the list with $252.6 billion, followed by Bernard Arnault and Jeff Bezos. See the latest net worths, sources and profiles of the world's billionaires as of October 1, 2023.\"}, {\"url\": \"https://www.visualcapitalist.com/the-richest-people-in-the-world-in-2023/\", \"content\": \"Visualizing America\\u2019s $1 Trillion Credit Card Debt\\nThe 20 Most Common Investing Mistakes, in One Chart\\nVisualizing the Pyramid of Global Wealth Distribution\\nVisualizing the Investments of the Ultra-Wealthy\\nVisualizing the Top Countries by Wealth per Person\\nCharted: The Average Cost of Insulin By Country\\nRanked: The Best U.S. States for Retirement\\nTimeline: Cannabis Legislation in the U.S.\\nVisualizing the Composition of Blood\\nVisualizing the Relationship Between Cancer and Lifespan\\nVisualized: EV Market Share in the U.S.\\nProgress on 2030 Renewable Energy Targets by Country\\nMapped: The Top Middle East Exports by Country\\nMapped: Gas Prices in Every U.S. State\\nVisualized: How Much Do EV Batteries Cost?\\nMapped: Which Countries Recognize Israel or Palestine, or Both?\\nInteractive Map: The World as 1,000 People\\nMapped: Recognition of Israel by Country\\nMapped: Recognition of Palestine by Country\\nMapped: The Expansion of the Shanghai Cooperation Organization\\nAll the Metals We Mined in One Visualization\\n200 Years of Global Gold Production, by Country\\nCharted: America\\u2019s Import Reliance of Key Minerals\\nRanked: The World\\u2019s Top Cobalt Producing Countries\\nHow Big is the Market for Crude Oil?\\n Visualizing All the World\\u2019s Carbon Emissions by Country\\nRanked: The Foods With the Largest Environmental Impact\\nThe 2023 Utility Decarbonization Index\\nRanked: The Most Carbon-Intensive Sectors in the World\\nTracking Antarctica Sea Ice Loss in 2023\\nMoney\\nThe Richest People in the World in 2023\\nPublished\\non\\nBy\\nThe Richest People in the World in 2023\\nAfter witnessing record gains in wealth, ultra-high net worth individuals (UHNWIs) lost a combined $10 trillion last year.\\n Visual Capitalist\\nVisual Capitalist\\nThe Top 50 Largest Importers in the World\\nRanked: The Biggest Retailers in the U.S. by Revenue\\nVisualizing 30 Years of Imports from U.S. Trading Partners\\nRanked: Largest Semiconductor Foundry Companies by Revenue\\nVisualizing 30 Years of Investor Sentiment\\nRanked: Largest Semiconductor Foundry Companies by Revenue\\nRanked: The Most Innovative Countries in 2023\\nRanked: The World\\u2019s Top 25 Defense Companies by Revenue\\nCharted: What are Retail Investors Interested in Buying in 2023?\\n De-Dollarization: Countries Seeking Alternatives to the U.S. Dollar\\nCharted: 30 Years of Central Bank Gold Demand\\nVisualizing the Pyramid of Global Wealth Distribution\\nThe Best Selling Vehicle in Every State\\nVisualizing the Investments of the Ultra-Wealthy\\nVisualizing U.S. EV Sales in H1 2023\\nVisualized: How Much Do EV Batteries Cost?\\nWhere the Ultra-Rich Spend Their Holidays\\nMoney\\nRanking the Credit Ratings of Major Economies\\n Here\\u2019s a look at the salary needed for home ownership in the top\\u2026\\nRanked: Average Black Friday Discounts for Major Retailers\\nCharted: The Average Cost of Insulin By Country\\nRanked: The Most Innovative Countries in 2023\\nAll the Metals We Mined in One Visualization\\nCharted: Marvel\\u2019s Box Office Rise (and Fall?)\\n\"}]\n",
      "Assistant: As of October 2023, the richest person in the world is Elon Musk, with a net worth of $252.6 billion.\n",
      "User: do you remember my name\n",
      "Assistant: Yes, your name is Minow. How can I assist you further?\n",
      "Goodbye!\n"
     ]
    }
   ],
   "source": [
    "config = {\"configurable\": {\"thread_id\": \"1\"}}\n",
    "\n",
    "def stream_graph_updates(user_input: str):\n",
    "    print(\"User:\", user_input)\n",
    "    graph_stream=graph.stream({\"messages\": [(\"user\", user_input)]},config) #passing user input into the graph; graph takes care of accumulating answers and invoking nodes\n",
    "    for event in graph_stream: #graph will return its answers; in this case, simply the LLM output\n",
    "        for value in event.values():\n",
    "            print(\"Assistant:\", value[\"messages\"][-1].content) #always printing last message, in this case, its always the LLM answer; also we know that the LLM returns the state\n",
    "\n",
    "\n",
    "while True:\n",
    "    try:\n",
    "        user_input = input(\"User: \")\n",
    "        if user_input.lower() in [\"quit\", \"exit\", \"q\"]:\n",
    "            print(\"Goodbye!\")\n",
    "            break\n",
    "\n",
    "        stream_graph_updates(user_input)\n",
    "    except:\n",
    "        # fallback if input() is not available\n",
    "        user_input = \"What do you know about LangGraph?\"\n",
    "        print(\"User: \" + user_input)\n",
    "        stream_graph_updates(user_input)\n",
    "        break"
   ]
  },
  {
   "cell_type": "code",
   "execution_count": 45,
   "metadata": {},
   "outputs": [
    {
     "data": {
      "text/plain": [
       "StateSnapshot(values={'messages': [HumanMessage(content='hey', additional_kwargs={}, response_metadata={}, id='181c053c-d50a-4bb1-a06b-f41757550b38'), AIMessage(content='Hello! How can I assist you today?', additional_kwargs={'refusal': None}, response_metadata={'token_usage': {'completion_tokens': 11, 'prompt_tokens': 80, 'total_tokens': 91, 'completion_tokens_details': {'accepted_prediction_tokens': 0, 'audio_tokens': 0, 'reasoning_tokens': 0, 'rejected_prediction_tokens': 0}, 'prompt_tokens_details': {'audio_tokens': 0, 'cached_tokens': 0}}, 'model_name': 'gpt-4o-2024-08-06', 'system_fingerprint': 'fp_d28bcae782', 'finish_reason': 'stop', 'logprobs': None}, id='run-60fa315a-be79-46f5-8e43-ec69baf0cb17-0', usage_metadata={'input_tokens': 80, 'output_tokens': 11, 'total_tokens': 91, 'input_token_details': {'audio': 0, 'cache_read': 0}, 'output_token_details': {'audio': 0, 'reasoning': 0}}), HumanMessage(content=\"I'm Minow\", additional_kwargs={}, response_metadata={}, id='e7153174-d819-4d98-91c1-ee331b00be66'), AIMessage(content='Hi Minow! How can I help you today?', additional_kwargs={'refusal': None}, response_metadata={'token_usage': {'completion_tokens': 13, 'prompt_tokens': 100, 'total_tokens': 113, 'completion_tokens_details': {'accepted_prediction_tokens': 0, 'audio_tokens': 0, 'reasoning_tokens': 0, 'rejected_prediction_tokens': 0}, 'prompt_tokens_details': {'audio_tokens': 0, 'cached_tokens': 0}}, 'model_name': 'gpt-4o-2024-08-06', 'system_fingerprint': 'fp_d28bcae782', 'finish_reason': 'stop', 'logprobs': None}, id='run-75588050-01d5-42d2-a922-836c50744ef1-0', usage_metadata={'input_tokens': 100, 'output_tokens': 13, 'total_tokens': 113, 'input_token_details': {'audio': 0, 'cache_read': 0}, 'output_token_details': {'audio': 0, 'reasoning': 0}}), HumanMessage(content='who is th richest person on arth', additional_kwargs={}, response_metadata={}, id='a37cd53f-00b8-413b-b7ab-650944fb8824'), AIMessage(content='', additional_kwargs={'tool_calls': [{'id': 'call_jDUxFhILYN1l98nv1lWJ921r', 'function': {'arguments': '{\"query\":\"richest person in the world 2023\"}', 'name': 'tavily_search_results_json'}, 'type': 'function'}], 'refusal': None}, response_metadata={'token_usage': {'completion_tokens': 27, 'prompt_tokens': 126, 'total_tokens': 153, 'completion_tokens_details': {'accepted_prediction_tokens': 0, 'audio_tokens': 0, 'reasoning_tokens': 0, 'rejected_prediction_tokens': 0}, 'prompt_tokens_details': {'audio_tokens': 0, 'cached_tokens': 0}}, 'model_name': 'gpt-4o-2024-08-06', 'system_fingerprint': 'fp_5f20662549', 'finish_reason': 'tool_calls', 'logprobs': None}, id='run-8d151dca-0347-4dcf-a1a4-edb56a474625-0', tool_calls=[{'name': 'tavily_search_results_json', 'args': {'query': 'richest person in the world 2023'}, 'id': 'call_jDUxFhILYN1l98nv1lWJ921r', 'type': 'tool_call'}], usage_metadata={'input_tokens': 126, 'output_tokens': 27, 'total_tokens': 153, 'input_token_details': {'audio': 0, 'cache_read': 0}, 'output_token_details': {'audio': 0, 'reasoning': 0}}), ToolMessage(content='[{\"url\": \"https://www.forbes.com.au/news/billionaires/richest-people-in-the-world/\", \"content\": \"Elon Musk tops the list with $252.6 billion, followed by Bernard Arnault and Jeff Bezos. See the latest net worths, sources and profiles of the world\\'s billionaires as of October 1, 2023.\"}, {\"url\": \"https://www.visualcapitalist.com/the-richest-people-in-the-world-in-2023/\", \"content\": \"Visualizing America\\\\u2019s $1 Trillion Credit Card Debt\\\\nThe 20 Most Common Investing Mistakes, in One Chart\\\\nVisualizing the Pyramid of Global Wealth Distribution\\\\nVisualizing the Investments of the Ultra-Wealthy\\\\nVisualizing the Top Countries by Wealth per Person\\\\nCharted: The Average Cost of Insulin By Country\\\\nRanked: The Best U.S. States for Retirement\\\\nTimeline: Cannabis Legislation in the U.S.\\\\nVisualizing the Composition of Blood\\\\nVisualizing the Relationship Between Cancer and Lifespan\\\\nVisualized: EV Market Share in the U.S.\\\\nProgress on 2030 Renewable Energy Targets by Country\\\\nMapped: The Top Middle East Exports by Country\\\\nMapped: Gas Prices in Every U.S. State\\\\nVisualized: How Much Do EV Batteries Cost?\\\\nMapped: Which Countries Recognize Israel or Palestine, or Both?\\\\nInteractive Map: The World as 1,000 People\\\\nMapped: Recognition of Israel by Country\\\\nMapped: Recognition of Palestine by Country\\\\nMapped: The Expansion of the Shanghai Cooperation Organization\\\\nAll the Metals We Mined in One Visualization\\\\n200 Years of Global Gold Production, by Country\\\\nCharted: America\\\\u2019s Import Reliance of Key Minerals\\\\nRanked: The World\\\\u2019s Top Cobalt Producing Countries\\\\nHow Big is the Market for Crude Oil?\\\\n Visualizing All the World\\\\u2019s Carbon Emissions by Country\\\\nRanked: The Foods With the Largest Environmental Impact\\\\nThe 2023 Utility Decarbonization Index\\\\nRanked: The Most Carbon-Intensive Sectors in the World\\\\nTracking Antarctica Sea Ice Loss in 2023\\\\nMoney\\\\nThe Richest People in the World in 2023\\\\nPublished\\\\non\\\\nBy\\\\nThe Richest People in the World in 2023\\\\nAfter witnessing record gains in wealth, ultra-high net worth individuals (UHNWIs) lost a combined $10 trillion last year.\\\\n Visual Capitalist\\\\nVisual Capitalist\\\\nThe Top 50 Largest Importers in the World\\\\nRanked: The Biggest Retailers in the U.S. by Revenue\\\\nVisualizing 30 Years of Imports from U.S. Trading Partners\\\\nRanked: Largest Semiconductor Foundry Companies by Revenue\\\\nVisualizing 30 Years of Investor Sentiment\\\\nRanked: Largest Semiconductor Foundry Companies by Revenue\\\\nRanked: The Most Innovative Countries in 2023\\\\nRanked: The World\\\\u2019s Top 25 Defense Companies by Revenue\\\\nCharted: What are Retail Investors Interested in Buying in 2023?\\\\n De-Dollarization: Countries Seeking Alternatives to the U.S. Dollar\\\\nCharted: 30 Years of Central Bank Gold Demand\\\\nVisualizing the Pyramid of Global Wealth Distribution\\\\nThe Best Selling Vehicle in Every State\\\\nVisualizing the Investments of the Ultra-Wealthy\\\\nVisualizing U.S. EV Sales in H1 2023\\\\nVisualized: How Much Do EV Batteries Cost?\\\\nWhere the Ultra-Rich Spend Their Holidays\\\\nMoney\\\\nRanking the Credit Ratings of Major Economies\\\\n Here\\\\u2019s a look at the salary needed for home ownership in the top\\\\u2026\\\\nRanked: Average Black Friday Discounts for Major Retailers\\\\nCharted: The Average Cost of Insulin By Country\\\\nRanked: The Most Innovative Countries in 2023\\\\nAll the Metals We Mined in One Visualization\\\\nCharted: Marvel\\\\u2019s Box Office Rise (and Fall?)\\\\n\"}]', name='tavily_search_results_json', id='1048ea49-4827-4b94-9ff1-26614f64a0da', tool_call_id='call_jDUxFhILYN1l98nv1lWJ921r'), AIMessage(content='As of October 2023, the richest person in the world is Elon Musk, with a net worth of $252.6 billion.', additional_kwargs={'refusal': None}, response_metadata={'token_usage': {'completion_tokens': 30, 'prompt_tokens': 981, 'total_tokens': 1011, 'completion_tokens_details': {'accepted_prediction_tokens': 0, 'audio_tokens': 0, 'reasoning_tokens': 0, 'rejected_prediction_tokens': 0}, 'prompt_tokens_details': {'audio_tokens': 0, 'cached_tokens': 0}}, 'model_name': 'gpt-4o-2024-08-06', 'system_fingerprint': 'fp_5f20662549', 'finish_reason': 'stop', 'logprobs': None}, id='run-26242cdb-7103-4dfb-b544-a5f1828fd565-0', usage_metadata={'input_tokens': 981, 'output_tokens': 30, 'total_tokens': 1011, 'input_token_details': {'audio': 0, 'cache_read': 0}, 'output_token_details': {'audio': 0, 'reasoning': 0}}), HumanMessage(content='do you remember my name', additional_kwargs={}, response_metadata={}, id='b11d43ca-7e32-4fc5-b83f-c7bc6abdae24'), AIMessage(content='Yes, your name is Minow. How can I assist you further?', additional_kwargs={'refusal': None}, response_metadata={'token_usage': {'completion_tokens': 17, 'prompt_tokens': 1022, 'total_tokens': 1039, 'completion_tokens_details': {'accepted_prediction_tokens': 0, 'audio_tokens': 0, 'reasoning_tokens': 0, 'rejected_prediction_tokens': 0}, 'prompt_tokens_details': {'audio_tokens': 0, 'cached_tokens': 0}}, 'model_name': 'gpt-4o-2024-08-06', 'system_fingerprint': 'fp_5f20662549', 'finish_reason': 'stop', 'logprobs': None}, id='run-e51bcda4-d506-4146-8208-2181bcbd7ac1-0', usage_metadata={'input_tokens': 1022, 'output_tokens': 17, 'total_tokens': 1039, 'input_token_details': {'audio': 0, 'cache_read': 0}, 'output_token_details': {'audio': 0, 'reasoning': 0}})]}, next=(), config={'configurable': {'thread_id': '1', 'checkpoint_ns': '', 'checkpoint_id': '1efc2143-0fb4-6058-800c-cbacb61f8ab5'}}, metadata={'source': 'loop', 'writes': {'chatbot': {'messages': [AIMessage(content='Yes, your name is Minow. How can I assist you further?', additional_kwargs={'refusal': None}, response_metadata={'token_usage': {'completion_tokens': 17, 'prompt_tokens': 1022, 'total_tokens': 1039, 'completion_tokens_details': {'accepted_prediction_tokens': 0, 'audio_tokens': 0, 'reasoning_tokens': 0, 'rejected_prediction_tokens': 0}, 'prompt_tokens_details': {'audio_tokens': 0, 'cached_tokens': 0}}, 'model_name': 'gpt-4o-2024-08-06', 'system_fingerprint': 'fp_5f20662549', 'finish_reason': 'stop', 'logprobs': None}, id='run-e51bcda4-d506-4146-8208-2181bcbd7ac1-0', usage_metadata={'input_tokens': 1022, 'output_tokens': 17, 'total_tokens': 1039, 'input_token_details': {'audio': 0, 'cache_read': 0}, 'output_token_details': {'audio': 0, 'reasoning': 0}})]}}, 'thread_id': '1', 'step': 12, 'parents': {}}, created_at='2024-12-24T16:29:04.868099+00:00', parent_config={'configurable': {'thread_id': '1', 'checkpoint_ns': '', 'checkpoint_id': '1efc2143-02f3-6814-800b-a3a00c585f63'}}, tasks=())"
      ]
     },
     "execution_count": 45,
     "metadata": {},
     "output_type": "execute_result"
    }
   ],
   "source": [
    "graph.get_state(config)"
   ]
  }
 ],
 "metadata": {
  "kernelspec": {
   "display_name": "Python 3",
   "language": "python",
   "name": "python3"
  },
  "language_info": {
   "codemirror_mode": {
    "name": "ipython",
    "version": 3
   },
   "file_extension": ".py",
   "mimetype": "text/x-python",
   "name": "python",
   "nbconvert_exporter": "python",
   "pygments_lexer": "ipython3",
   "version": "3.10.0"
  }
 },
 "nbformat": 4,
 "nbformat_minor": 2
}
